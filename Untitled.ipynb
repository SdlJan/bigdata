{
 "cells": [
  {
   "cell_type": "code",
   "execution_count": 24,
   "metadata": {},
   "outputs": [
    {
     "name": "stdout",
     "output_type": "stream",
     "text": [
      "6\n",
      "9\n",
      "11\n",
      "Element found in the positon 11\n",
      "6\n",
      "2\n",
      "0\n",
      "Element found in the positon 0\n"
     ]
    }
   ],
   "source": [
    "\n",
    "\n",
    "def binary_search(arr,value):\n",
    "    left = 0\n",
    "    right = len(arr) - 1\n",
    "    while(left <= right):\n",
    "        mid = (left + right) // 2\n",
    "        print(mid)\n",
    "        if arr[mid] is value:\n",
    "            return mid\n",
    "        elif value < arr[mid]:\n",
    "            right = mid - 1\n",
    "        elif value > arr[mid]:\n",
    "            left = mid + 1\n",
    "\n",
    "    return -1\n",
    "\n",
    "def print_binary_search(arr,value):\n",
    "    pos = binary_search(arr,value)\n",
    "    if pos is -1:\n",
    "        print(\"Element not found\")\n",
    "    else:\n",
    "        print(\"Element found in the positon \" +str(pos))\n",
    "\n",
    "\n",
    "\n",
    "def test1():\n",
    "    arr = [2,5,8,9,11,15,17,19,22,26,29,33,56]\n",
    "    value = 33\n",
    "    print_binary_search(arr,value)\n",
    "\n",
    "def test2():\n",
    "    arr = [2,5,8,9,11,15,17,19,22,26,29,33,56]\n",
    "    value = 2\n",
    "    print_binary_search(arr,value)\n",
    "\n",
    "test1()\n",
    "\n",
    "test2()"
   ]
  }
 ],
 "metadata": {
  "kernelspec": {
   "display_name": "Python 3",
   "language": "python",
   "name": "python3"
  },
  "language_info": {
   "codemirror_mode": {
    "name": "ipython",
    "version": 3
   },
   "file_extension": ".py",
   "mimetype": "text/x-python",
   "name": "python",
   "nbconvert_exporter": "python",
   "pygments_lexer": "ipython3",
   "version": "3.7.0"
  }
 },
 "nbformat": 4,
 "nbformat_minor": 2
}
